{
  "cells": [
    {
      "cell_type": "markdown",
      "metadata": {
        "id": "MptOgxANGXVU"
      },
      "source": [
        "### Install Necessary Packages"
      ]
    },
    {
      "cell_type": "code",
      "execution_count": 1,
      "metadata": {
        "colab": {
          "base_uri": "https://localhost:8080/"
        },
        "id": "0XZ8pSlmFZUh",
        "outputId": "e965a2cb-44d1-4586-a853-8f162c1659d1"
      },
      "outputs": [
        {
          "name": "stdout",
          "output_type": "stream",
          "text": [
            "Requirement already satisfied: pyspark in /usr/local/lib/python3.10/dist-packages (3.5.1)\n",
            "Requirement already satisfied: py4j==0.10.9.7 in /usr/local/lib/python3.10/dist-packages (from pyspark) (0.10.9.7)\n"
          ]
        }
      ],
      "source": [
        "!pip install pyspark"
      ]
    },
    {
      "cell_type": "markdown",
      "metadata": {
        "id": "PB_NYJtLGb_1"
      },
      "source": [
        "### Necessary Packages"
      ]
    },
    {
      "cell_type": "code",
      "execution_count": 36,
      "metadata": {
        "id": "pDO1XMXrGee_"
      },
      "outputs": [],
      "source": [
        "import os\n",
        "import pyspark.sql.functions as F\n",
        "from pyspark.sql import SparkSession,DataFrame\n",
        "from pyspark.ml.feature import StringIndexer,OneHotEncoder,VectorAssembler\n",
        "from pyspark.ml import Pipeline\n",
        "from pyspark.ml.clustering import KMeans\n",
        "from pyspark.ml.evaluation import ClusteringEvaluator\n",
        "from tqdm.notebook import tqdm"
      ]
    },
    {
      "cell_type": "markdown",
      "metadata": {
        "id": "dPoojL1zGy1f"
      },
      "source": [
        "### Mount the drive"
      ]
    },
    {
      "cell_type": "code",
      "execution_count": 3,
      "metadata": {
        "colab": {
          "base_uri": "https://localhost:8080/"
        },
        "id": "r2Y98422G0h8",
        "outputId": "d2588c49-83d3-49c5-e4dc-cc9d254ef701"
      },
      "outputs": [
        {
          "name": "stdout",
          "output_type": "stream",
          "text": [
            "Drive already mounted at /content/drive; to attempt to forcibly remount, call drive.mount(\"/content/drive\", force_remount=True).\n"
          ]
        }
      ],
      "source": [
        "from google.colab import drive\n",
        "drive.mount('/content/drive')"
      ]
    },
    {
      "cell_type": "markdown",
      "metadata": {
        "id": "4OqCBGzzJCYk"
      },
      "source": [
        "### Global"
      ]
    },
    {
      "cell_type": "code",
      "execution_count": 4,
      "metadata": {
        "id": "H1Rf9zpYJDwF"
      },
      "outputs": [],
      "source": [
        "DATA_DIR = \"./drive/MyDrive/bdt/tp4_data\""
      ]
    },
    {
      "cell_type": "markdown",
      "metadata": {
        "id": "0bzFsPbBG7-O"
      },
      "source": [
        "### Question 01 : store the content of all the csv files in a data frame"
      ]
    },
    {
      "cell_type": "code",
      "execution_count": 5,
      "metadata": {
        "id": "NPjazzEOJOuf"
      },
      "outputs": [],
      "source": [
        "def read_csv_folder(root : str, spark : SparkSession) -> DataFrame | None:\n",
        "\n",
        "  files = os.listdir(path=root)\n",
        "  csv_files = list(filter(lambda filename : filename.endswith(\".csv\"),files))\n",
        "\n",
        "  result = None\n",
        "\n",
        "  for csv_file in tqdm(csv_files):\n",
        "    csv_file_path = os.path.join(root, csv_file)\n",
        "    df = spark.read.csv(path=csv_file_path, header=True, inferSchema=True)\n",
        "\n",
        "    if result is None:\n",
        "      result = df\n",
        "    else:\n",
        "      result = result.union(df)\n",
        "\n",
        "  return result"
      ]
    },
    {
      "cell_type": "code",
      "execution_count": 6,
      "metadata": {
        "id": "KJDuqsHbHklQ"
      },
      "outputs": [],
      "source": [
        "spark = SparkSession.builder.getOrCreate()"
      ]
    },
    {
      "cell_type": "code",
      "execution_count": 7,
      "metadata": {
        "colab": {
          "base_uri": "https://localhost:8080/",
          "height": 49,
          "referenced_widgets": [
            "2db9a6d814c042a5bf3c7cb0cd827995",
            "0a42418e277948638dd512750e99053c",
            "f87cd421d2e54afdb89a504ab67a4657",
            "1e4d575673844eabb49eaea4f511e713",
            "e53d7b2870d341bd8da38cf13513ac61",
            "427a4872efa1455fb26e1ad7cc1737f6",
            "836aff7c16844422a37c32f2c6c2f17e",
            "d99559aa64e2410e9c2811f9920e92e8",
            "8a4be029f0744eb183a6621b2f75870d",
            "15ce188a304e4868b58f58e65ff7468d",
            "a689da3f06b2405e83fa4f6768781397"
          ]
        },
        "id": "yHRqiGtwKaTL",
        "outputId": "abba794f-e3a9-4d1e-b463-58245bc7a54e"
      },
      "outputs": [
        {
          "data": {
            "application/vnd.jupyter.widget-view+json": {
              "model_id": "2db9a6d814c042a5bf3c7cb0cd827995",
              "version_major": 2,
              "version_minor": 0
            },
            "text/plain": [
              "  0%|          | 0/22 [00:00<?, ?it/s]"
            ]
          },
          "metadata": {},
          "output_type": "display_data"
        }
      ],
      "source": [
        "df = read_csv_folder(root=DATA_DIR, spark=spark)"
      ]
    },
    {
      "cell_type": "code",
      "execution_count": 8,
      "metadata": {
        "colab": {
          "base_uri": "https://localhost:8080/"
        },
        "id": "A013CD4jK3nu",
        "outputId": "0f5cfaf1-3e64-4c44-8411-ea76612a5a2a"
      },
      "outputs": [
        {
          "name": "stdout",
          "output_type": "stream",
          "text": [
            "+---------+---------+--------------------+--------+-------------------+---------+----------+--------------+\n",
            "|InvoiceNo|StockCode|         Description|Quantity|        InvoiceDate|UnitPrice|CustomerID|       Country|\n",
            "+---------+---------+--------------------+--------+-------------------+---------+----------+--------------+\n",
            "|   538521|    21754|HOME BUILDING BLO...|       3|2010-12-13 09:02:00|     5.95|   14180.0|United Kingdom|\n",
            "|   538521|    21755|LOVE BUILDING BLO...|       3|2010-12-13 09:02:00|     5.95|   14180.0|United Kingdom|\n",
            "|   538521|    22072|RED RETROSPOT TEA...|       8|2010-12-13 09:02:00|     3.75|   14180.0|United Kingdom|\n",
            "|   538521|    22846|BREAD BIN DINER S...|       1|2010-12-13 09:02:00|    16.95|   14180.0|United Kingdom|\n",
            "|   538521|    22849|BREAD BIN DINER S...|       1|2010-12-13 09:02:00|    16.95|   14180.0|United Kingdom|\n",
            "+---------+---------+--------------------+--------+-------------------+---------+----------+--------------+\n",
            "only showing top 5 rows\n",
            "\n"
          ]
        }
      ],
      "source": [
        "df.show(n=5)"
      ]
    },
    {
      "cell_type": "markdown",
      "metadata": {
        "id": "1WtvihQtLQ6L"
      },
      "source": [
        "### Question 02 : Display the schema of the resulted data frame"
      ]
    },
    {
      "cell_type": "code",
      "execution_count": 9,
      "metadata": {
        "colab": {
          "base_uri": "https://localhost:8080/"
        },
        "id": "njFJwdeDK6m4",
        "outputId": "bb10e8b6-bbdf-4bf4-e92b-5a4c3469d6dd"
      },
      "outputs": [
        {
          "data": {
            "text/plain": [
              "StructType([StructField('InvoiceNo', StringType(), True), StructField('StockCode', StringType(), True), StructField('Description', StringType(), True), StructField('Quantity', IntegerType(), True), StructField('InvoiceDate', TimestampType(), True), StructField('UnitPrice', DoubleType(), True), StructField('CustomerID', DoubleType(), True), StructField('Country', StringType(), True)])"
            ]
          },
          "execution_count": 9,
          "metadata": {},
          "output_type": "execute_result"
        }
      ],
      "source": [
        "df.schema"
      ]
    },
    {
      "cell_type": "markdown",
      "metadata": {
        "id": "uU-Q6fT0LcxQ"
      },
      "source": [
        "### Question 03 : Fill the missing values with the value 0"
      ]
    },
    {
      "cell_type": "code",
      "execution_count": 10,
      "metadata": {
        "id": "bFztTYkXLh3R"
      },
      "outputs": [],
      "source": [
        "df = df.fillna(value=0)"
      ]
    },
    {
      "cell_type": "markdown",
      "metadata": {
        "id": "OvBvK9lJLq4L"
      },
      "source": [
        "### Question 04 : Add a new column `DayOfWeek`"
      ]
    },
    {
      "cell_type": "code",
      "execution_count": 11,
      "metadata": {
        "id": "N5FEMkIBLzWz"
      },
      "outputs": [],
      "source": [
        "df = df.withColumn(\"DayOfWeek\", F.date_format(df.InvoiceDate, format='EEEE'))"
      ]
    },
    {
      "cell_type": "code",
      "execution_count": 12,
      "metadata": {
        "colab": {
          "base_uri": "https://localhost:8080/"
        },
        "id": "Pbgd3HPFN9dK",
        "outputId": "e926b947-3945-472c-ec2b-74c0edabf64b"
      },
      "outputs": [
        {
          "name": "stdout",
          "output_type": "stream",
          "text": [
            "+---------+---------+--------------------+--------+-------------------+---------+----------+--------------+---------+\n",
            "|InvoiceNo|StockCode|         Description|Quantity|        InvoiceDate|UnitPrice|CustomerID|       Country|DayOfWeek|\n",
            "+---------+---------+--------------------+--------+-------------------+---------+----------+--------------+---------+\n",
            "|   538521|    21754|HOME BUILDING BLO...|       3|2010-12-13 09:02:00|     5.95|   14180.0|United Kingdom|   Monday|\n",
            "|   538521|    21755|LOVE BUILDING BLO...|       3|2010-12-13 09:02:00|     5.95|   14180.0|United Kingdom|   Monday|\n",
            "|   538521|    22072|RED RETROSPOT TEA...|       8|2010-12-13 09:02:00|     3.75|   14180.0|United Kingdom|   Monday|\n",
            "|   538521|    22846|BREAD BIN DINER S...|       1|2010-12-13 09:02:00|    16.95|   14180.0|United Kingdom|   Monday|\n",
            "|   538521|    22849|BREAD BIN DINER S...|       1|2010-12-13 09:02:00|    16.95|   14180.0|United Kingdom|   Monday|\n",
            "+---------+---------+--------------------+--------+-------------------+---------+----------+--------------+---------+\n",
            "only showing top 5 rows\n",
            "\n"
          ]
        }
      ],
      "source": [
        "df.show(n=5)"
      ]
    },
    {
      "cell_type": "markdown",
      "metadata": {
        "id": "4PhK1CdcPWSu"
      },
      "source": [
        "### Question 05 : Split the dataframe into a train and test sets based on the `InvoiceDate` column"
      ]
    },
    {
      "cell_type": "code",
      "execution_count": 13,
      "metadata": {
        "colab": {
          "base_uri": "https://localhost:8080/"
        },
        "id": "gZVU9fXjQfMX",
        "outputId": "d45c2ca8-b5cc-499f-a706-b8a6488e7daa"
      },
      "outputs": [
        {
          "data": {
            "text/plain": [
              "45408"
            ]
          },
          "execution_count": 13,
          "metadata": {},
          "output_type": "execute_result"
        }
      ],
      "source": [
        "df.count()"
      ]
    },
    {
      "cell_type": "code",
      "execution_count": 14,
      "metadata": {
        "id": "qtcbrJ8dPfS3"
      },
      "outputs": [],
      "source": [
        "train_df = df.where(df.InvoiceDate < '2010-12-13')\n",
        "test_df = df.where(df.InvoiceDate > '2010-12-13')"
      ]
    },
    {
      "cell_type": "code",
      "execution_count": 15,
      "metadata": {
        "colab": {
          "base_uri": "https://localhost:8080/"
        },
        "id": "P4ZpQE6-RaDx",
        "outputId": "f4103db0-8adf-4c22-a7e8-d4b98a9e598d"
      },
      "outputs": [
        {
          "name": "stdout",
          "output_type": "stream",
          "text": [
            "Number of data points in the training set is : 26732\n",
            "Number of data points in the test set is : 18676\n"
          ]
        }
      ],
      "source": [
        "print(f\"Number of data points in the training set is : {train_df.count()}\")\n",
        "print(f\"Number of data points in the test set is : {test_df.count()}\")"
      ]
    },
    {
      "cell_type": "markdown",
      "metadata": {
        "id": "iLU-nWyiRk3Z"
      },
      "source": [
        "### Question 06 : Create a `StringIndexer` to transform the `DayOfWeek` values to numerique values"
      ]
    },
    {
      "cell_type": "code",
      "execution_count": 16,
      "metadata": {
        "id": "FMDXk_aXR-5K"
      },
      "outputs": [],
      "source": [
        "dow_indexer = StringIndexer() \\\n",
        "  .setInputCol(\"DayOfWeek\") \\\n",
        "  .setOutputCol(\"NumDayOfWeek\")\n",
        "dow_indexer_model = dow_indexer.fit(train_df)"
      ]
    },
    {
      "cell_type": "code",
      "execution_count": 17,
      "metadata": {
        "colab": {
          "base_uri": "https://localhost:8080/"
        },
        "id": "bwgXeymbXYhO",
        "outputId": "e7e73ef9-6285-4f12-857d-dffbd482f1da"
      },
      "outputs": [
        {
          "name": "stdout",
          "output_type": "stream",
          "text": [
            "+---------+---------+--------------------+--------+-------------------+---------+----------+--------------+---------+------------+\n",
            "|InvoiceNo|StockCode|         Description|Quantity|        InvoiceDate|UnitPrice|CustomerID|       Country|DayOfWeek|NumDayOfWeek|\n",
            "+---------+---------+--------------------+--------+-------------------+---------+----------+--------------+---------+------------+\n",
            "|   537667|    22158|3 HEARTS HANGING ...|     128|2010-12-08 08:12:00|     2.55|   17870.0|United Kingdom|Wednesday|         0.0|\n",
            "|   537668|    22867|HAND WARMER BIRD ...|      12|2010-12-08 08:43:00|      2.1|   14821.0|United Kingdom|Wednesday|         0.0|\n",
            "|   537668|    22158|3 HEARTS HANGING ...|       8|2010-12-08 08:43:00|     2.95|   14821.0|United Kingdom|Wednesday|         0.0|\n",
            "|   537669|    84978|HANGING HEART JAR...|      12|2010-12-08 08:58:00|     1.25|   16863.0|United Kingdom|Wednesday|         0.0|\n",
            "|   537669|    21726|MULTI HEARTS  STI...|      12|2010-12-08 08:58:00|     0.85|   16863.0|United Kingdom|Wednesday|         0.0|\n",
            "+---------+---------+--------------------+--------+-------------------+---------+----------+--------------+---------+------------+\n",
            "only showing top 5 rows\n",
            "\n"
          ]
        }
      ],
      "source": [
        "train_df = dow_indexer_model.transform(dataset=train_df)\n",
        "train_df.show(n=5)"
      ]
    },
    {
      "cell_type": "markdown",
      "metadata": {
        "id": "L3zBtAjnX7Kq"
      },
      "source": [
        "### Quesion 07 :\n",
        "\n",
        "- The problem can be solved by one hot encoding the values of the `DayOfWeek` column instead of ordinal encoding."
      ]
    },
    {
      "cell_type": "code",
      "execution_count": 18,
      "metadata": {
        "id": "AcpH04Q2YcNU"
      },
      "outputs": [],
      "source": [
        "dow_ohe = OneHotEncoder() \\\n",
        "  .setInputCol(\"NumDayOfWeek\") \\\n",
        "  .setOutputCol(\"IdxDayOfWeek\")\n",
        "dow_ohe_model = dow_ohe.fit(train_df)"
      ]
    },
    {
      "cell_type": "code",
      "execution_count": 19,
      "metadata": {
        "colab": {
          "base_uri": "https://localhost:8080/"
        },
        "id": "5OL--AK5ZUwL",
        "outputId": "1b131d1f-1f35-4f85-8a63-8fd73885e0a8"
      },
      "outputs": [
        {
          "name": "stdout",
          "output_type": "stream",
          "text": [
            "+---------+---------+--------------------+--------+-------------------+---------+----------+--------------+---------+------------+-------------+\n",
            "|InvoiceNo|StockCode|         Description|Quantity|        InvoiceDate|UnitPrice|CustomerID|       Country|DayOfWeek|NumDayOfWeek| IdxDayOfWeek|\n",
            "+---------+---------+--------------------+--------+-------------------+---------+----------+--------------+---------+------------+-------------+\n",
            "|   537667|    22158|3 HEARTS HANGING ...|     128|2010-12-08 08:12:00|     2.55|   17870.0|United Kingdom|Wednesday|         0.0|(5,[0],[1.0])|\n",
            "|   537668|    22867|HAND WARMER BIRD ...|      12|2010-12-08 08:43:00|      2.1|   14821.0|United Kingdom|Wednesday|         0.0|(5,[0],[1.0])|\n",
            "|   537668|    22158|3 HEARTS HANGING ...|       8|2010-12-08 08:43:00|     2.95|   14821.0|United Kingdom|Wednesday|         0.0|(5,[0],[1.0])|\n",
            "|   537669|    84978|HANGING HEART JAR...|      12|2010-12-08 08:58:00|     1.25|   16863.0|United Kingdom|Wednesday|         0.0|(5,[0],[1.0])|\n",
            "|   537669|    21726|MULTI HEARTS  STI...|      12|2010-12-08 08:58:00|     0.85|   16863.0|United Kingdom|Wednesday|         0.0|(5,[0],[1.0])|\n",
            "+---------+---------+--------------------+--------+-------------------+---------+----------+--------------+---------+------------+-------------+\n",
            "only showing top 5 rows\n",
            "\n"
          ]
        }
      ],
      "source": [
        "train_df = dow_ohe_model.transform(train_df)\n",
        "train_df.show(n=5)"
      ]
    },
    {
      "cell_type": "markdown",
      "metadata": {
        "id": "J82XNk_7aJvu"
      },
      "source": [
        "### Question 08 : Create a `VectorAssembler` to combine the columns `UnitPrice`,`Quantity` and `IdxDayOfWeek`"
      ]
    },
    {
      "cell_type": "code",
      "execution_count": 20,
      "metadata": {
        "id": "cvqHbYxlaVXQ"
      },
      "outputs": [],
      "source": [
        "assembler = VectorAssembler() \\\n",
        "  .setInputCols(['UnitPrice','Quantity','IdxDayOfWeek']) \\\n",
        "  .setOutputCol('Vector')"
      ]
    },
    {
      "cell_type": "code",
      "execution_count": 21,
      "metadata": {
        "colab": {
          "base_uri": "https://localhost:8080/"
        },
        "id": "H8oGVh_ibY3g",
        "outputId": "deaf2f81-7ef4-487b-9be3-d10aa053ed9a"
      },
      "outputs": [
        {
          "name": "stdout",
          "output_type": "stream",
          "text": [
            "+---------+---------+--------------------+--------+-------------------+---------+----------+--------------+---------+------------+-------------+--------------------+\n",
            "|InvoiceNo|StockCode|         Description|Quantity|        InvoiceDate|UnitPrice|CustomerID|       Country|DayOfWeek|NumDayOfWeek| IdxDayOfWeek|              Vector|\n",
            "+---------+---------+--------------------+--------+-------------------+---------+----------+--------------+---------+------------+-------------+--------------------+\n",
            "|   537667|    22158|3 HEARTS HANGING ...|     128|2010-12-08 08:12:00|     2.55|   17870.0|United Kingdom|Wednesday|         0.0|(5,[0],[1.0])|(7,[0,1,2],[2.55,...|\n",
            "|   537668|    22867|HAND WARMER BIRD ...|      12|2010-12-08 08:43:00|      2.1|   14821.0|United Kingdom|Wednesday|         0.0|(5,[0],[1.0])|(7,[0,1,2],[2.1,1...|\n",
            "|   537668|    22158|3 HEARTS HANGING ...|       8|2010-12-08 08:43:00|     2.95|   14821.0|United Kingdom|Wednesday|         0.0|(5,[0],[1.0])|(7,[0,1,2],[2.95,...|\n",
            "|   537669|    84978|HANGING HEART JAR...|      12|2010-12-08 08:58:00|     1.25|   16863.0|United Kingdom|Wednesday|         0.0|(5,[0],[1.0])|(7,[0,1,2],[1.25,...|\n",
            "|   537669|    21726|MULTI HEARTS  STI...|      12|2010-12-08 08:58:00|     0.85|   16863.0|United Kingdom|Wednesday|         0.0|(5,[0],[1.0])|(7,[0,1,2],[0.85,...|\n",
            "+---------+---------+--------------------+--------+-------------------+---------+----------+--------------+---------+------------+-------------+--------------------+\n",
            "only showing top 5 rows\n",
            "\n"
          ]
        }
      ],
      "source": [
        "train_df = assembler.transform(train_df)\n",
        "train_df.show(n=5)"
      ]
    },
    {
      "cell_type": "markdown",
      "metadata": {
        "id": "fxfOz4AbblrA"
      },
      "source": [
        "### Question 09 : Create a pipeline that combines steps of the questions 6,7 and 8."
      ]
    },
    {
      "cell_type": "code",
      "execution_count": 22,
      "metadata": {
        "id": "wda3WICed4VD"
      },
      "outputs": [],
      "source": [
        "train_df = train_df.drop('NumDayOfWeek','IdxDayOfWeek','Vector')"
      ]
    },
    {
      "cell_type": "code",
      "execution_count": 23,
      "metadata": {
        "id": "YbyyMbfDbwNM"
      },
      "outputs": [],
      "source": [
        "pipeline = Pipeline(stages=[\n",
        "    StringIndexer().setInputCol(\"DayOfWeek\").setOutputCol(\"NumDayOfWeek\"),\n",
        "    OneHotEncoder().setInputCol(\"NumDayOfWeek\").setOutputCol(\"IdxDayOfWeek\"),\n",
        "    VectorAssembler().setInputCols(['UnitPrice','Quantity','IdxDayOfWeek']).setOutputCol('Vector')\n",
        "])"
      ]
    },
    {
      "cell_type": "markdown",
      "metadata": {
        "id": "HMMBRcPLecF5"
      },
      "source": [
        "### Question 10 : Specify the number of values to be indexed by the string indexer"
      ]
    },
    {
      "cell_type": "code",
      "execution_count": 24,
      "metadata": {
        "id": "Bhy72di2drKa"
      },
      "outputs": [],
      "source": [
        "pipeline_model = pipeline.fit(train_df)"
      ]
    },
    {
      "cell_type": "markdown",
      "metadata": {
        "id": "5jxOMdkHglUT"
      },
      "source": [
        "### Question 11 : Transfrom the data frame using the pipeline"
      ]
    },
    {
      "cell_type": "code",
      "execution_count": 25,
      "metadata": {
        "id": "Wgi9fImzeTQs"
      },
      "outputs": [],
      "source": [
        "train_df = pipeline_model.transform(train_df)\n",
        "test_df = pipeline_model.transform(test_df)"
      ]
    },
    {
      "cell_type": "code",
      "execution_count": 27,
      "metadata": {
        "colab": {
          "base_uri": "https://localhost:8080/"
        },
        "id": "LJ8TUctNjWaX",
        "outputId": "70ded4fa-57e1-4243-a7cd-119428341d1b"
      },
      "outputs": [
        {
          "name": "stdout",
          "output_type": "stream",
          "text": [
            "+---------+---------+--------------------+--------+-------------------+---------+----------+--------------+---------+------------+-------------+--------------------+\n",
            "|InvoiceNo|StockCode|         Description|Quantity|        InvoiceDate|UnitPrice|CustomerID|       Country|DayOfWeek|NumDayOfWeek| IdxDayOfWeek|              Vector|\n",
            "+---------+---------+--------------------+--------+-------------------+---------+----------+--------------+---------+------------+-------------+--------------------+\n",
            "|   537667|    22158|3 HEARTS HANGING ...|     128|2010-12-08 08:12:00|     2.55|   17870.0|United Kingdom|Wednesday|         0.0|(5,[0],[1.0])|(7,[0,1,2],[2.55,...|\n",
            "|   537668|    22867|HAND WARMER BIRD ...|      12|2010-12-08 08:43:00|      2.1|   14821.0|United Kingdom|Wednesday|         0.0|(5,[0],[1.0])|(7,[0,1,2],[2.1,1...|\n",
            "|   537668|    22158|3 HEARTS HANGING ...|       8|2010-12-08 08:43:00|     2.95|   14821.0|United Kingdom|Wednesday|         0.0|(5,[0],[1.0])|(7,[0,1,2],[2.95,...|\n",
            "|   537669|    84978|HANGING HEART JAR...|      12|2010-12-08 08:58:00|     1.25|   16863.0|United Kingdom|Wednesday|         0.0|(5,[0],[1.0])|(7,[0,1,2],[1.25,...|\n",
            "|   537669|    21726|MULTI HEARTS  STI...|      12|2010-12-08 08:58:00|     0.85|   16863.0|United Kingdom|Wednesday|         0.0|(5,[0],[1.0])|(7,[0,1,2],[0.85,...|\n",
            "+---------+---------+--------------------+--------+-------------------+---------+----------+--------------+---------+------------+-------------+--------------------+\n",
            "only showing top 5 rows\n",
            "\n"
          ]
        }
      ],
      "source": [
        "train_df.show(n=5)"
      ]
    },
    {
      "cell_type": "code",
      "execution_count": 28,
      "metadata": {
        "colab": {
          "base_uri": "https://localhost:8080/"
        },
        "id": "XAxgecVijag0",
        "outputId": "f9013252-d33d-4f7e-821e-c0f9f990d044"
      },
      "outputs": [
        {
          "name": "stdout",
          "output_type": "stream",
          "text": [
            "+---------+---------+--------------------+--------+-------------------+---------+----------+--------------+---------+------------+-------------+--------------------+\n",
            "|InvoiceNo|StockCode|         Description|Quantity|        InvoiceDate|UnitPrice|CustomerID|       Country|DayOfWeek|NumDayOfWeek| IdxDayOfWeek|              Vector|\n",
            "+---------+---------+--------------------+--------+-------------------+---------+----------+--------------+---------+------------+-------------+--------------------+\n",
            "|   538521|    21754|HOME BUILDING BLO...|       3|2010-12-13 09:02:00|     5.95|   14180.0|United Kingdom|   Monday|         4.0|(5,[4],[1.0])|(7,[0,1,6],[5.95,...|\n",
            "|   538521|    21755|LOVE BUILDING BLO...|       3|2010-12-13 09:02:00|     5.95|   14180.0|United Kingdom|   Monday|         4.0|(5,[4],[1.0])|(7,[0,1,6],[5.95,...|\n",
            "|   538521|    22072|RED RETROSPOT TEA...|       8|2010-12-13 09:02:00|     3.75|   14180.0|United Kingdom|   Monday|         4.0|(5,[4],[1.0])|(7,[0,1,6],[3.75,...|\n",
            "|   538521|    22846|BREAD BIN DINER S...|       1|2010-12-13 09:02:00|    16.95|   14180.0|United Kingdom|   Monday|         4.0|(5,[4],[1.0])|(7,[0,1,6],[16.95...|\n",
            "|   538521|    22849|BREAD BIN DINER S...|       1|2010-12-13 09:02:00|    16.95|   14180.0|United Kingdom|   Monday|         4.0|(5,[4],[1.0])|(7,[0,1,6],[16.95...|\n",
            "+---------+---------+--------------------+--------+-------------------+---------+----------+--------------+---------+------------+-------------+--------------------+\n",
            "only showing top 5 rows\n",
            "\n"
          ]
        }
      ],
      "source": [
        "test_df.show(n=5)"
      ]
    },
    {
      "cell_type": "markdown",
      "metadata": {
        "id": "BeJPTUoegvm3"
      },
      "source": [
        "### Question 12 : create a KMeans instance"
      ]
    },
    {
      "cell_type": "code",
      "execution_count": 26,
      "metadata": {
        "id": "COamW8gkg0Uc"
      },
      "outputs": [],
      "source": [
        "kmeans = KMeans() \\\n",
        "  .setFeaturesCol('Vector') \\\n",
        "  .setK(20)"
      ]
    },
    {
      "cell_type": "markdown",
      "metadata": {
        "id": "Ry795DAYjShh"
      },
      "source": [
        "### Question 13 : fit the kmeans model on the training data"
      ]
    },
    {
      "cell_type": "code",
      "execution_count": 30,
      "metadata": {
        "id": "Xf-AtEjojgxq"
      },
      "outputs": [],
      "source": [
        "kmeans_model = kmeans.fit(train_df)"
      ]
    },
    {
      "cell_type": "markdown",
      "metadata": {
        "id": "PM9rlA_TjodA"
      },
      "source": [
        "### Question 14 : make predictions on the test set"
      ]
    },
    {
      "cell_type": "code",
      "execution_count": 37,
      "metadata": {
        "id": "GEMbrc-mjqb-"
      },
      "outputs": [],
      "source": [
        "test_predictions = kmeans_model.transform(test_df)"
      ]
    },
    {
      "cell_type": "code",
      "execution_count": 38,
      "metadata": {
        "colab": {
          "base_uri": "https://localhost:8080/"
        },
        "id": "Y12WiI3wkX5h",
        "outputId": "0c687e21-666b-407f-8522-47ecc9bb4f1c"
      },
      "outputs": [
        {
          "name": "stdout",
          "output_type": "stream",
          "text": [
            "+---------+---------+--------------------+--------+-------------------+---------+----------+--------------+---------+------------+-------------+--------------------+----------+\n",
            "|InvoiceNo|StockCode|         Description|Quantity|        InvoiceDate|UnitPrice|CustomerID|       Country|DayOfWeek|NumDayOfWeek| IdxDayOfWeek|              Vector|prediction|\n",
            "+---------+---------+--------------------+--------+-------------------+---------+----------+--------------+---------+------------+-------------+--------------------+----------+\n",
            "|   538521|    21754|HOME BUILDING BLO...|       3|2010-12-13 09:02:00|     5.95|   14180.0|United Kingdom|   Monday|         4.0|(5,[4],[1.0])|(7,[0,1,6],[5.95,...|         0|\n",
            "|   538521|    21755|LOVE BUILDING BLO...|       3|2010-12-13 09:02:00|     5.95|   14180.0|United Kingdom|   Monday|         4.0|(5,[4],[1.0])|(7,[0,1,6],[5.95,...|         0|\n",
            "|   538521|    22072|RED RETROSPOT TEA...|       8|2010-12-13 09:02:00|     3.75|   14180.0|United Kingdom|   Monday|         4.0|(5,[4],[1.0])|(7,[0,1,6],[3.75,...|        14|\n",
            "|   538521|    22846|BREAD BIN DINER S...|       1|2010-12-13 09:02:00|    16.95|   14180.0|United Kingdom|   Monday|         4.0|(5,[4],[1.0])|(7,[0,1,6],[16.95...|         0|\n",
            "|   538521|    22849|BREAD BIN DINER S...|       1|2010-12-13 09:02:00|    16.95|   14180.0|United Kingdom|   Monday|         4.0|(5,[4],[1.0])|(7,[0,1,6],[16.95...|         0|\n",
            "+---------+---------+--------------------+--------+-------------------+---------+----------+--------------+---------+------------+-------------+--------------------+----------+\n",
            "only showing top 5 rows\n",
            "\n"
          ]
        }
      ],
      "source": [
        "test_predictions.show(n=5)"
      ]
    },
    {
      "cell_type": "markdown",
      "metadata": {
        "id": "77BMt87ukiBH"
      },
      "source": [
        "### Question 15 : calculate the silhouette coefficient"
      ]
    },
    {
      "cell_type": "code",
      "execution_count": 39,
      "metadata": {
        "id": "dEWaPccxkoSA"
      },
      "outputs": [],
      "source": [
        "evaluator = ClusteringEvaluator()  \\\n",
        "  .setMetricName('silhouette') \\\n",
        "  .setFeaturesCol('Vector') \\\n",
        "  .setPredictionCol('prediction')"
      ]
    },
    {
      "cell_type": "code",
      "execution_count": 41,
      "metadata": {
        "colab": {
          "base_uri": "https://localhost:8080/"
        },
        "id": "Jg-hKeTCmCU8",
        "outputId": "fd4c4aa9-7636-4974-9948-6878d98d7086"
      },
      "outputs": [
        {
          "data": {
            "text/plain": [
              "0.49050335732496136"
            ]
          },
          "execution_count": 41,
          "metadata": {},
          "output_type": "execute_result"
        }
      ],
      "source": [
        "evaluator.evaluate(test_predictions)"
      ]
    }
  ],
  "metadata": {
    "colab": {
      "provenance": []
    },
    "kernelspec": {
      "display_name": "Python 3",
      "name": "python3"
    },
    "language_info": {
      "name": "python"
    },
    "widgets": {
      "application/vnd.jupyter.widget-state+json": {
        "0a42418e277948638dd512750e99053c": {
          "model_module": "@jupyter-widgets/controls",
          "model_module_version": "1.5.0",
          "model_name": "HTMLModel",
          "state": {
            "_dom_classes": [],
            "_model_module": "@jupyter-widgets/controls",
            "_model_module_version": "1.5.0",
            "_model_name": "HTMLModel",
            "_view_count": null,
            "_view_module": "@jupyter-widgets/controls",
            "_view_module_version": "1.5.0",
            "_view_name": "HTMLView",
            "description": "",
            "description_tooltip": null,
            "layout": "IPY_MODEL_427a4872efa1455fb26e1ad7cc1737f6",
            "placeholder": "​",
            "style": "IPY_MODEL_836aff7c16844422a37c32f2c6c2f17e",
            "value": "100%"
          }
        },
        "15ce188a304e4868b58f58e65ff7468d": {
          "model_module": "@jupyter-widgets/base",
          "model_module_version": "1.2.0",
          "model_name": "LayoutModel",
          "state": {
            "_model_module": "@jupyter-widgets/base",
            "_model_module_version": "1.2.0",
            "_model_name": "LayoutModel",
            "_view_count": null,
            "_view_module": "@jupyter-widgets/base",
            "_view_module_version": "1.2.0",
            "_view_name": "LayoutView",
            "align_content": null,
            "align_items": null,
            "align_self": null,
            "border": null,
            "bottom": null,
            "display": null,
            "flex": null,
            "flex_flow": null,
            "grid_area": null,
            "grid_auto_columns": null,
            "grid_auto_flow": null,
            "grid_auto_rows": null,
            "grid_column": null,
            "grid_gap": null,
            "grid_row": null,
            "grid_template_areas": null,
            "grid_template_columns": null,
            "grid_template_rows": null,
            "height": null,
            "justify_content": null,
            "justify_items": null,
            "left": null,
            "margin": null,
            "max_height": null,
            "max_width": null,
            "min_height": null,
            "min_width": null,
            "object_fit": null,
            "object_position": null,
            "order": null,
            "overflow": null,
            "overflow_x": null,
            "overflow_y": null,
            "padding": null,
            "right": null,
            "top": null,
            "visibility": null,
            "width": null
          }
        },
        "1e4d575673844eabb49eaea4f511e713": {
          "model_module": "@jupyter-widgets/controls",
          "model_module_version": "1.5.0",
          "model_name": "HTMLModel",
          "state": {
            "_dom_classes": [],
            "_model_module": "@jupyter-widgets/controls",
            "_model_module_version": "1.5.0",
            "_model_name": "HTMLModel",
            "_view_count": null,
            "_view_module": "@jupyter-widgets/controls",
            "_view_module_version": "1.5.0",
            "_view_name": "HTMLView",
            "description": "",
            "description_tooltip": null,
            "layout": "IPY_MODEL_15ce188a304e4868b58f58e65ff7468d",
            "placeholder": "​",
            "style": "IPY_MODEL_a689da3f06b2405e83fa4f6768781397",
            "value": " 22/22 [00:31&lt;00:00,  1.04it/s]"
          }
        },
        "2db9a6d814c042a5bf3c7cb0cd827995": {
          "model_module": "@jupyter-widgets/controls",
          "model_module_version": "1.5.0",
          "model_name": "HBoxModel",
          "state": {
            "_dom_classes": [],
            "_model_module": "@jupyter-widgets/controls",
            "_model_module_version": "1.5.0",
            "_model_name": "HBoxModel",
            "_view_count": null,
            "_view_module": "@jupyter-widgets/controls",
            "_view_module_version": "1.5.0",
            "_view_name": "HBoxView",
            "box_style": "",
            "children": [
              "IPY_MODEL_0a42418e277948638dd512750e99053c",
              "IPY_MODEL_f87cd421d2e54afdb89a504ab67a4657",
              "IPY_MODEL_1e4d575673844eabb49eaea4f511e713"
            ],
            "layout": "IPY_MODEL_e53d7b2870d341bd8da38cf13513ac61"
          }
        },
        "427a4872efa1455fb26e1ad7cc1737f6": {
          "model_module": "@jupyter-widgets/base",
          "model_module_version": "1.2.0",
          "model_name": "LayoutModel",
          "state": {
            "_model_module": "@jupyter-widgets/base",
            "_model_module_version": "1.2.0",
            "_model_name": "LayoutModel",
            "_view_count": null,
            "_view_module": "@jupyter-widgets/base",
            "_view_module_version": "1.2.0",
            "_view_name": "LayoutView",
            "align_content": null,
            "align_items": null,
            "align_self": null,
            "border": null,
            "bottom": null,
            "display": null,
            "flex": null,
            "flex_flow": null,
            "grid_area": null,
            "grid_auto_columns": null,
            "grid_auto_flow": null,
            "grid_auto_rows": null,
            "grid_column": null,
            "grid_gap": null,
            "grid_row": null,
            "grid_template_areas": null,
            "grid_template_columns": null,
            "grid_template_rows": null,
            "height": null,
            "justify_content": null,
            "justify_items": null,
            "left": null,
            "margin": null,
            "max_height": null,
            "max_width": null,
            "min_height": null,
            "min_width": null,
            "object_fit": null,
            "object_position": null,
            "order": null,
            "overflow": null,
            "overflow_x": null,
            "overflow_y": null,
            "padding": null,
            "right": null,
            "top": null,
            "visibility": null,
            "width": null
          }
        },
        "836aff7c16844422a37c32f2c6c2f17e": {
          "model_module": "@jupyter-widgets/controls",
          "model_module_version": "1.5.0",
          "model_name": "DescriptionStyleModel",
          "state": {
            "_model_module": "@jupyter-widgets/controls",
            "_model_module_version": "1.5.0",
            "_model_name": "DescriptionStyleModel",
            "_view_count": null,
            "_view_module": "@jupyter-widgets/base",
            "_view_module_version": "1.2.0",
            "_view_name": "StyleView",
            "description_width": ""
          }
        },
        "8a4be029f0744eb183a6621b2f75870d": {
          "model_module": "@jupyter-widgets/controls",
          "model_module_version": "1.5.0",
          "model_name": "ProgressStyleModel",
          "state": {
            "_model_module": "@jupyter-widgets/controls",
            "_model_module_version": "1.5.0",
            "_model_name": "ProgressStyleModel",
            "_view_count": null,
            "_view_module": "@jupyter-widgets/base",
            "_view_module_version": "1.2.0",
            "_view_name": "StyleView",
            "bar_color": null,
            "description_width": ""
          }
        },
        "a689da3f06b2405e83fa4f6768781397": {
          "model_module": "@jupyter-widgets/controls",
          "model_module_version": "1.5.0",
          "model_name": "DescriptionStyleModel",
          "state": {
            "_model_module": "@jupyter-widgets/controls",
            "_model_module_version": "1.5.0",
            "_model_name": "DescriptionStyleModel",
            "_view_count": null,
            "_view_module": "@jupyter-widgets/base",
            "_view_module_version": "1.2.0",
            "_view_name": "StyleView",
            "description_width": ""
          }
        },
        "d99559aa64e2410e9c2811f9920e92e8": {
          "model_module": "@jupyter-widgets/base",
          "model_module_version": "1.2.0",
          "model_name": "LayoutModel",
          "state": {
            "_model_module": "@jupyter-widgets/base",
            "_model_module_version": "1.2.0",
            "_model_name": "LayoutModel",
            "_view_count": null,
            "_view_module": "@jupyter-widgets/base",
            "_view_module_version": "1.2.0",
            "_view_name": "LayoutView",
            "align_content": null,
            "align_items": null,
            "align_self": null,
            "border": null,
            "bottom": null,
            "display": null,
            "flex": null,
            "flex_flow": null,
            "grid_area": null,
            "grid_auto_columns": null,
            "grid_auto_flow": null,
            "grid_auto_rows": null,
            "grid_column": null,
            "grid_gap": null,
            "grid_row": null,
            "grid_template_areas": null,
            "grid_template_columns": null,
            "grid_template_rows": null,
            "height": null,
            "justify_content": null,
            "justify_items": null,
            "left": null,
            "margin": null,
            "max_height": null,
            "max_width": null,
            "min_height": null,
            "min_width": null,
            "object_fit": null,
            "object_position": null,
            "order": null,
            "overflow": null,
            "overflow_x": null,
            "overflow_y": null,
            "padding": null,
            "right": null,
            "top": null,
            "visibility": null,
            "width": null
          }
        },
        "e53d7b2870d341bd8da38cf13513ac61": {
          "model_module": "@jupyter-widgets/base",
          "model_module_version": "1.2.0",
          "model_name": "LayoutModel",
          "state": {
            "_model_module": "@jupyter-widgets/base",
            "_model_module_version": "1.2.0",
            "_model_name": "LayoutModel",
            "_view_count": null,
            "_view_module": "@jupyter-widgets/base",
            "_view_module_version": "1.2.0",
            "_view_name": "LayoutView",
            "align_content": null,
            "align_items": null,
            "align_self": null,
            "border": null,
            "bottom": null,
            "display": null,
            "flex": null,
            "flex_flow": null,
            "grid_area": null,
            "grid_auto_columns": null,
            "grid_auto_flow": null,
            "grid_auto_rows": null,
            "grid_column": null,
            "grid_gap": null,
            "grid_row": null,
            "grid_template_areas": null,
            "grid_template_columns": null,
            "grid_template_rows": null,
            "height": null,
            "justify_content": null,
            "justify_items": null,
            "left": null,
            "margin": null,
            "max_height": null,
            "max_width": null,
            "min_height": null,
            "min_width": null,
            "object_fit": null,
            "object_position": null,
            "order": null,
            "overflow": null,
            "overflow_x": null,
            "overflow_y": null,
            "padding": null,
            "right": null,
            "top": null,
            "visibility": null,
            "width": null
          }
        },
        "f87cd421d2e54afdb89a504ab67a4657": {
          "model_module": "@jupyter-widgets/controls",
          "model_module_version": "1.5.0",
          "model_name": "FloatProgressModel",
          "state": {
            "_dom_classes": [],
            "_model_module": "@jupyter-widgets/controls",
            "_model_module_version": "1.5.0",
            "_model_name": "FloatProgressModel",
            "_view_count": null,
            "_view_module": "@jupyter-widgets/controls",
            "_view_module_version": "1.5.0",
            "_view_name": "ProgressView",
            "bar_style": "success",
            "description": "",
            "description_tooltip": null,
            "layout": "IPY_MODEL_d99559aa64e2410e9c2811f9920e92e8",
            "max": 22,
            "min": 0,
            "orientation": "horizontal",
            "style": "IPY_MODEL_8a4be029f0744eb183a6621b2f75870d",
            "value": 22
          }
        }
      }
    }
  },
  "nbformat": 4,
  "nbformat_minor": 0
}
