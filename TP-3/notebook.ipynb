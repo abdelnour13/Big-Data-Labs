{
  "cells": [
    {
      "cell_type": "markdown",
      "metadata": {
        "id": "fueNsUL30n8J"
      },
      "source": [
        "# Install Necessary Packages"
      ]
    },
    {
      "cell_type": "code",
      "execution_count": null,
      "metadata": {
        "colab": {
          "base_uri": "https://localhost:8080/"
        },
        "id": "h4R-osLk0rlk",
        "outputId": "76c228ad-f6f3-4a63-930a-1cd0abfeb65a"
      },
      "outputs": [
        {
          "name": "stdout",
          "output_type": "stream",
          "text": [
            "Collecting pyspark\n",
            "  Downloading pyspark-3.5.1.tar.gz (317.0 MB)\n",
            "\u001b[2K     \u001b[90m━━━━━━━━━━━━━━━━━━━━━━━━━━━━━━━━━━━━━━━━\u001b[0m \u001b[32m317.0/317.0 MB\u001b[0m \u001b[31m2.1 MB/s\u001b[0m eta \u001b[36m0:00:00\u001b[0m\n",
            "\u001b[?25h  Preparing metadata (setup.py) ... \u001b[?25l\u001b[?25hdone\n",
            "Requirement already satisfied: py4j==0.10.9.7 in /usr/local/lib/python3.10/dist-packages (from pyspark) (0.10.9.7)\n",
            "Building wheels for collected packages: pyspark\n",
            "  Building wheel for pyspark (setup.py) ... \u001b[?25l\u001b[?25hdone\n",
            "  Created wheel for pyspark: filename=pyspark-3.5.1-py2.py3-none-any.whl size=317488493 sha256=0ee8268aa485b5d46ffb786e313128129a9f8c65b273a0d235f44ee2622e2109\n",
            "  Stored in directory: /root/.cache/pip/wheels/80/1d/60/2c256ed38dddce2fdd93be545214a63e02fbd8d74fb0b7f3a6\n",
            "Successfully built pyspark\n",
            "Installing collected packages: pyspark\n",
            "Successfully installed pyspark-3.5.1\n"
          ]
        }
      ],
      "source": [
        "!pip install pyspark"
      ]
    },
    {
      "cell_type": "markdown",
      "metadata": {
        "id": "W_BsCtvB0a0T"
      },
      "source": [
        "# Necessary Packages"
      ]
    },
    {
      "cell_type": "code",
      "execution_count": null,
      "metadata": {
        "id": "7hqN9GsK0ViS"
      },
      "outputs": [],
      "source": [
        "from pyspark import SparkConf, SparkContext, SQLContext\n",
        "from pyspark.sql.functions import *\n",
        "from pyspark.sql.types import StringType,IntegerType,StructField,StructType"
      ]
    },
    {
      "cell_type": "markdown",
      "metadata": {
        "id": "l9Nv0rXR0Xh_"
      },
      "source": [
        "# Mount the drive"
      ]
    },
    {
      "cell_type": "code",
      "execution_count": null,
      "metadata": {
        "colab": {
          "base_uri": "https://localhost:8080/"
        },
        "id": "_utcmX630Wrb",
        "outputId": "5a92105a-2031-4b13-cd75-6570cea068b7"
      },
      "outputs": [
        {
          "name": "stdout",
          "output_type": "stream",
          "text": [
            "Mounted at /content/drive\n"
          ]
        }
      ],
      "source": [
        "from google.colab import drive\n",
        "drive.mount('/content/drive')"
      ]
    },
    {
      "cell_type": "markdown",
      "metadata": {
        "id": "s_MYsMiz1DK4"
      },
      "source": [
        "# Setup"
      ]
    },
    {
      "cell_type": "code",
      "execution_count": null,
      "metadata": {
        "id": "-Nmtj3ke1JO1"
      },
      "outputs": [],
      "source": [
        "nomappli = \"essai1\"\n",
        "config = SparkConf().setAppName(nomappli)\n",
        "sc = SparkContext(conf=config)"
      ]
    },
    {
      "cell_type": "code",
      "execution_count": null,
      "metadata": {
        "colab": {
          "base_uri": "https://localhost:8080/"
        },
        "id": "SsEMD9p91Lfv",
        "outputId": "54aa087b-37af-45e1-b61f-58c4ff104fcf"
      },
      "outputs": [
        {
          "name": "stderr",
          "output_type": "stream",
          "text": [
            "/usr/local/lib/python3.10/dist-packages/pyspark/sql/context.py:113: FutureWarning: Deprecated in 3.0.0. Use SparkSession.builder.getOrCreate() instead.\n",
            "  warnings.warn(\n"
          ]
        }
      ],
      "source": [
        "sqlContext = SQLContext(sc)"
      ]
    },
    {
      "cell_type": "markdown",
      "metadata": {
        "id": "YgVu9tzG1SCO"
      },
      "source": [
        "# Data Loading"
      ]
    },
    {
      "cell_type": "code",
      "execution_count": null,
      "metadata": {
        "id": "oegxS4re1YqR"
      },
      "outputs": [],
      "source": [
        "file = sc.textFile(\"./drive/MyDrive/bdt/ngram.csv\")\n",
        "table = file \\\n",
        "  .map(lambda row: row.split(\"\\t\")) \\\n",
        "  .map(lambda row: (row[0], int(row[1]),int(row[2]),int(row[3]),int(row[4])))"
      ]
    },
    {
      "cell_type": "markdown",
      "metadata": {
        "id": "VAYgaYua1o-M"
      },
      "source": [
        "# Schema definition"
      ]
    },
    {
      "cell_type": "code",
      "execution_count": null,
      "metadata": {
        "id": "1Yfeln7Y1wfg"
      },
      "outputs": [],
      "source": [
        "ngram = StructField(\"ngram\", StringType())\n",
        "year = StructField(\"year\", IntegerType())\n",
        "count = StructField(\"count\", IntegerType())\n",
        "pages = StructField(\"pages\", IntegerType())\n",
        "books = StructField(\"books\", IntegerType())"
      ]
    },
    {
      "cell_type": "code",
      "execution_count": null,
      "metadata": {
        "id": "bbQbIqA-3dM7"
      },
      "outputs": [],
      "source": [
        "schema = StructType([ngram,year,count,pages,books])"
      ]
    },
    {
      "cell_type": "markdown",
      "metadata": {
        "id": "dzWMdDSj253w"
      },
      "source": [
        "# Create a dataframe"
      ]
    },
    {
      "cell_type": "code",
      "execution_count": null,
      "metadata": {
        "id": "aL8NnvGR3Aie"
      },
      "outputs": [],
      "source": [
        "ngram = sqlContext.createDataFrame(data=table, schema=schema)"
      ]
    },
    {
      "cell_type": "code",
      "execution_count": null,
      "metadata": {
        "colab": {
          "base_uri": "https://localhost:8080/"
        },
        "id": "bXXy8C7a4JLd",
        "outputId": "42fa9a5c-5993-4dbf-dbfe-16787d8b86d4"
      },
      "outputs": [
        {
          "data": {
            "text/plain": [
              "['ngram', 'year', 'count', 'pages', 'books']"
            ]
          },
          "execution_count": 11,
          "metadata": {},
          "output_type": "execute_result"
        }
      ],
      "source": [
        "ngram.columns"
      ]
    },
    {
      "cell_type": "code",
      "execution_count": null,
      "metadata": {
        "colab": {
          "base_uri": "https://localhost:8080/"
        },
        "id": "Z3CvP8Dn4SC5",
        "outputId": "8a3ccd8e-845f-4336-c5cd-34c50f6283ea"
      },
      "outputs": [
        {
          "name": "stderr",
          "output_type": "stream",
          "text": [
            "/usr/local/lib/python3.10/dist-packages/pyspark/sql/dataframe.py:329: FutureWarning: Deprecated in 2.0, use createOrReplaceTempView instead.\n",
            "  warnings.warn(\"Deprecated in 2.0, use createOrReplaceTempView instead.\", FutureWarning)\n"
          ]
        }
      ],
      "source": [
        "ngram.registerTempTable(\"ngram\")"
      ]
    },
    {
      "cell_type": "markdown",
      "metadata": {
        "id": "CIImkVo24LZ9"
      },
      "source": [
        "# Queries"
      ]
    },
    {
      "cell_type": "markdown",
      "metadata": {
        "id": "fKQs1JMz4hKz"
      },
      "source": [
        "## Return all the bigrams where the the count is greater than 5"
      ]
    },
    {
      "cell_type": "markdown",
      "metadata": {
        "id": "SIFNz79y7coj"
      },
      "source": [
        "- SQL"
      ]
    },
    {
      "cell_type": "code",
      "execution_count": null,
      "metadata": {
        "colab": {
          "base_uri": "https://localhost:8080/"
        },
        "id": "Yb2h8yot4wBP",
        "outputId": "8dd3a7d7-533a-40c5-88e7-e11a5e534fdd"
      },
      "outputs": [
        {
          "name": "stdout",
          "output_type": "stream",
          "text": [
            "+--------+\n",
            "|   ngram|\n",
            "+--------+\n",
            "|! $17.95|\n",
            "|    ! 09|\n",
            "+--------+\n",
            "\n"
          ]
        }
      ],
      "source": [
        "sqlContext.sql(\"\"\"\n",
        "  SELECT DISTINCT ngram from ngram as n\n",
        "  WHERE n.count > 5\n",
        "\"\"\").show()"
      ]
    },
    {
      "cell_type": "markdown",
      "metadata": {
        "id": "-hYgQ1NW7dss"
      },
      "source": [
        "- PySQL"
      ]
    },
    {
      "cell_type": "code",
      "execution_count": null,
      "metadata": {
        "colab": {
          "base_uri": "https://localhost:8080/"
        },
        "id": "LsJCCY9-7fC_",
        "outputId": "2f217d58-5881-4543-d606-a2e719a2736d"
      },
      "outputs": [
        {
          "name": "stdout",
          "output_type": "stream",
          "text": [
            "+--------+\n",
            "|   ngram|\n",
            "+--------+\n",
            "|! $17.95|\n",
            "|    ! 09|\n",
            "+--------+\n",
            "\n"
          ]
        }
      ],
      "source": [
        "ngram.filter(\"count > 5\") \\\n",
        "  .select(ngram.ngram) \\\n",
        "  .distinct() \\\n",
        "  .show()"
      ]
    },
    {
      "cell_type": "markdown",
      "metadata": {
        "id": "8kYGWxzL8XUC"
      },
      "source": [
        "## Return the number of bigrams for each year"
      ]
    },
    {
      "cell_type": "markdown",
      "metadata": {
        "id": "TCFpnTpH8-Nm"
      },
      "source": [
        "- SQL"
      ]
    },
    {
      "cell_type": "code",
      "execution_count": null,
      "metadata": {
        "colab": {
          "base_uri": "https://localhost:8080/"
        },
        "id": "9t3sdIjp8kKu",
        "outputId": "34bc9df5-10d5-4db7-e98b-cd249c659022"
      },
      "outputs": [
        {
          "name": "stdout",
          "output_type": "stream",
          "text": [
            "+----+-----+\n",
            "|year|count|\n",
            "+----+-----+\n",
            "|1829|    1|\n",
            "|1990|    2|\n",
            "|1884|    1|\n",
            "|2003|    2|\n",
            "|1823|    1|\n",
            "|2007|    2|\n",
            "|1869|    1|\n",
            "|1866|    1|\n",
            "|1877|    1|\n",
            "|2006|    2|\n",
            "|1824|    1|\n",
            "|1848|    1|\n",
            "|1878|    1|\n",
            "|1834|    1|\n",
            "|1997|    2|\n",
            "|1847|    1|\n",
            "|1806|    1|\n",
            "|1856|    1|\n",
            "|1841|    1|\n",
            "|1861|    1|\n",
            "+----+-----+\n",
            "only showing top 20 rows\n",
            "\n"
          ]
        }
      ],
      "source": [
        "sqlContext.sql(\"\"\"\n",
        "  SELECT n.year,COUNT(n.ngram) AS count \n",
        "  FROM ngram AS n\n",
        "  GROUP BY n.year\n",
        "\"\"\").show()"
      ]
    },
    {
      "cell_type": "markdown",
      "metadata": {
        "id": "Gh9VAqeD9CcH"
      },
      "source": [
        "- PySQL"
      ]
    },
    {
      "cell_type": "code",
      "execution_count": null,
      "metadata": {
        "colab": {
          "base_uri": "https://localhost:8080/"
        },
        "id": "qXh210fa9Hvx",
        "outputId": "f1bcb081-d862-454e-a009-fbf6e5d9b686"
      },
      "outputs": [
        {
          "name": "stdout",
          "output_type": "stream",
          "text": [
            "+----+-----+\n",
            "|year|count|\n",
            "+----+-----+\n",
            "|1829|    1|\n",
            "|1990|    2|\n",
            "|1884|    1|\n",
            "|2003|    2|\n",
            "|1823|    1|\n",
            "|2007|    2|\n",
            "|1869|    1|\n",
            "|1866|    1|\n",
            "|1877|    1|\n",
            "|2006|    2|\n",
            "|1824|    1|\n",
            "|1848|    1|\n",
            "|1878|    1|\n",
            "|1834|    1|\n",
            "|1997|    2|\n",
            "|1847|    1|\n",
            "|1806|    1|\n",
            "|1856|    1|\n",
            "|1841|    1|\n",
            "|1861|    1|\n",
            "+----+-----+\n",
            "only showing top 20 rows\n",
            "\n"
          ]
        }
      ],
      "source": [
        "ngram \\\n",
        "  .groupBy(\"year\") \\\n",
        "  .count() \\\n",
        "  .show()"
      ]
    },
    {
      "cell_type": "markdown",
      "metadata": {
        "id": "5TurTlQd95co"
      },
      "source": [
        "## Return the bigrams with highest count each year"
      ]
    },
    {
      "cell_type": "markdown",
      "metadata": {
        "id": "-9xK6TNE_nej"
      },
      "source": [
        "- SQL"
      ]
    },
    {
      "cell_type": "code",
      "execution_count": null,
      "metadata": {
        "colab": {
          "base_uri": "https://localhost:8080/"
        },
        "id": "SzUDTplk-CJF",
        "outputId": "dae733a3-8ac9-4034-e05c-a814afe50c06"
      },
      "outputs": [
        {
          "name": "stdout",
          "output_type": "stream",
          "text": [
            "+-----+----+-----+\n",
            "|ngram|year|count|\n",
            "+-----+----+-----+\n",
            "| ! 09|1780|    1|\n",
            "| ! 09|1803|    1|\n",
            "| ! 09|1806|    1|\n",
            "| ! 09|1823|    1|\n",
            "| ! 09|1824|    1|\n",
            "| ! 09|1825|    1|\n",
            "| ! 09|1829|    3|\n",
            "| ! 09|1830|    2|\n",
            "| ! 09|1831|    1|\n",
            "| ! 09|1833|    1|\n",
            "| ! 09|1834|    4|\n",
            "| ! 09|1836|    1|\n",
            "| ! 09|1839|    1|\n",
            "| ! 09|1840|    1|\n",
            "| ! 09|1841|    2|\n",
            "| ! 09|1845|    1|\n",
            "| ! 09|1847|    2|\n",
            "| ! 09|1848|    1|\n",
            "| ! 09|1856|    1|\n",
            "| ! 09|1857|    2|\n",
            "+-----+----+-----+\n",
            "only showing top 20 rows\n",
            "\n"
          ]
        }
      ],
      "source": [
        "sqlContext.sql(\"\"\"\n",
        "  SELECT ngram,year,max(count) as count FROM ngram as n\n",
        "  GROUP BY ngram,year\n",
        "  ORDER BY year\n",
        "\"\"\").show()"
      ]
    },
    {
      "cell_type": "markdown",
      "metadata": {
        "id": "CrpPeIh6_pT7"
      },
      "source": [
        "- PySQL"
      ]
    },
    {
      "cell_type": "code",
      "execution_count": null,
      "metadata": {
        "colab": {
          "base_uri": "https://localhost:8080/"
        },
        "id": "9zIW-OGh_qeb",
        "outputId": "6eac4e08-dd61-4069-8236-0b2847cfdab5"
      },
      "outputs": [
        {
          "name": "stdout",
          "output_type": "stream",
          "text": [
            "+-----+----+----------+\n",
            "|ngram|year|max(count)|\n",
            "+-----+----+----------+\n",
            "| ! 09|1780|         1|\n",
            "| ! 09|1803|         1|\n",
            "| ! 09|1806|         1|\n",
            "| ! 09|1823|         1|\n",
            "| ! 09|1824|         1|\n",
            "| ! 09|1825|         1|\n",
            "| ! 09|1829|         3|\n",
            "| ! 09|1830|         2|\n",
            "| ! 09|1831|         1|\n",
            "| ! 09|1833|         1|\n",
            "| ! 09|1834|         4|\n",
            "| ! 09|1836|         1|\n",
            "| ! 09|1839|         1|\n",
            "| ! 09|1840|         1|\n",
            "| ! 09|1841|         2|\n",
            "| ! 09|1845|         1|\n",
            "| ! 09|1847|         2|\n",
            "| ! 09|1848|         1|\n",
            "| ! 09|1856|         1|\n",
            "| ! 09|1857|         2|\n",
            "+-----+----+----------+\n",
            "only showing top 20 rows\n",
            "\n"
          ]
        }
      ],
      "source": [
        "ngram \\\n",
        "  .groupBy([\"ngram\",'year']) \\\n",
        "  .max(\"count\") \\\n",
        "  .sort([\"year\"]) \\\n",
        "  .show()"
      ]
    },
    {
      "cell_type": "markdown",
      "metadata": {
        "id": "DVwrIkQVA6me"
      },
      "source": [
        "## Return the bigrams that appeared in 20 different years."
      ]
    },
    {
      "cell_type": "markdown",
      "metadata": {
        "id": "bNm4DVZ3BELj"
      },
      "source": [
        "- SQL"
      ]
    },
    {
      "cell_type": "code",
      "execution_count": null,
      "metadata": {
        "colab": {
          "base_uri": "https://localhost:8080/"
        },
        "id": "Cgn4vhLoBCUm",
        "outputId": "d12f7322-46ef-4105-c137-ef48e1fac644"
      },
      "outputs": [
        {
          "name": "stdout",
          "output_type": "stream",
          "text": [
            "+--------+-----------+\n",
            "|   ngram|years_count|\n",
            "+--------+-----------+\n",
            "|    ! 09|        100|\n",
            "|! $17.95|         20|\n",
            "+--------+-----------+\n",
            "\n"
          ]
        }
      ],
      "source": [
        "sqlContext.sql(\"\"\"\n",
        "  SELECT ngram,COUNT(DISTINCT year) as years_count\n",
        "  FROM ngram as n\n",
        "  GROUP BY ngram\n",
        "  HAVING years_count >= 20\n",
        "\"\"\").show()"
      ]
    },
    {
      "cell_type": "markdown",
      "metadata": {
        "id": "Py8VNgMLBpzU"
      },
      "source": [
        "- PySpark"
      ]
    },
    {
      "cell_type": "code",
      "execution_count": null,
      "metadata": {
        "colab": {
          "base_uri": "https://localhost:8080/"
        },
        "id": "hSz108CvBrT0",
        "outputId": "d77018da-63f6-4b9c-ff06-ecd539d95001"
      },
      "outputs": [
        {
          "name": "stdout",
          "output_type": "stream",
          "text": [
            "+--------+-----+\n",
            "|   ngram|count|\n",
            "+--------+-----+\n",
            "|    ! 09|  100|\n",
            "|! $17.95|   20|\n",
            "+--------+-----+\n",
            "\n"
          ]
        }
      ],
      "source": [
        "ngram \\\n",
        "  .groupBy(ngram.ngram) \\\n",
        "  .count() \\\n",
        "  .filter(\"count >= 20\") \\\n",
        "  .show()"
      ]
    },
    {
      "cell_type": "markdown",
      "metadata": {
        "id": "u_H4dbCOCy8H"
      },
      "source": [
        "## Return the bigrams where `!` is the first character and `9` is the second (separated by white space)."
      ]
    },
    {
      "cell_type": "markdown",
      "metadata": {
        "id": "QAKuu_VGDUFR"
      },
      "source": [
        "- SQL"
      ]
    },
    {
      "cell_type": "code",
      "execution_count": null,
      "metadata": {
        "colab": {
          "base_uri": "https://localhost:8080/"
        },
        "id": "v9tMVL2mC95e",
        "outputId": "ec5a0b73-1856-47f6-fe5f-3a100c3d00b7"
      },
      "outputs": [
        {
          "name": "stdout",
          "output_type": "stream",
          "text": [
            "+--------+\n",
            "|   ngram|\n",
            "+--------+\n",
            "|    ! 09|\n",
            "|! $17.95|\n",
            "+--------+\n",
            "\n"
          ]
        }
      ],
      "source": [
        "sqlContext.sql(\"\"\"\n",
        "  SELECT DISTINCT ngram FROM ngram as n\n",
        "  WHERE n.ngram LIKE '%!% %9%'\n",
        "\"\"\").show()"
      ]
    },
    {
      "cell_type": "markdown",
      "metadata": {
        "id": "V12GDM_tDrSq"
      },
      "source": [
        "- PySpark"
      ]
    },
    {
      "cell_type": "code",
      "execution_count": null,
      "metadata": {
        "colab": {
          "base_uri": "https://localhost:8080/"
        },
        "id": "G9p5NOPwDtFI",
        "outputId": "f9ba5d23-277e-40cd-a5cf-bc8a9269a9b5"
      },
      "outputs": [
        {
          "name": "stdout",
          "output_type": "stream",
          "text": [
            "+--------+\n",
            "|   ngram|\n",
            "+--------+\n",
            "|    ! 09|\n",
            "|! $17.95|\n",
            "+--------+\n",
            "\n"
          ]
        }
      ],
      "source": [
        "ngram \\\n",
        "  .filter(ngram.ngram.like('%!% %9%')) \\\n",
        "  .select(ngram.ngram) \\\n",
        "  .distinct() \\\n",
        "  .show()"
      ]
    },
    {
      "cell_type": "markdown",
      "metadata": {
        "id": "2x38HFiTEqVR"
      },
      "source": [
        "## Return the bigrams that appears in all the years"
      ]
    },
    {
      "cell_type": "markdown",
      "metadata": {
        "id": "--fwOjCKGXX1"
      },
      "source": [
        "- SQL"
      ]
    },
    {
      "cell_type": "code",
      "execution_count": null,
      "metadata": {
        "colab": {
          "base_uri": "https://localhost:8080/"
        },
        "id": "LqUJul8LE1g2",
        "outputId": "5b5b6b3f-9299-4140-f471-2870366823dd"
      },
      "outputs": [
        {
          "name": "stdout",
          "output_type": "stream",
          "text": [
            "+-----+-----------+\n",
            "|ngram|years_count|\n",
            "+-----+-----------+\n",
            "| ! 09|        100|\n",
            "+-----+-----------+\n",
            "\n"
          ]
        }
      ],
      "source": [
        "sqlContext.sql(\"\"\"\n",
        "  SELECT ngram,count(DISTINCT year) as years_count FROM ngram as n\n",
        "  GROUP BY ngram\n",
        "  HAVING years_count = (SELECT count(DISTINCT year) as years_count FROM ngram)\n",
        "\"\"\").show()"
      ]
    },
    {
      "cell_type": "markdown",
      "metadata": {
        "id": "fplAaAegGZES"
      },
      "source": [
        "- PySpark"
      ]
    },
    {
      "cell_type": "code",
      "execution_count": null,
      "metadata": {
        "colab": {
          "base_uri": "https://localhost:8080/"
        },
        "id": "OzXFAk-2GbcC",
        "outputId": "2e662e3b-0f5a-4b0e-8711-b73f6ac44924"
      },
      "outputs": [
        {
          "name": "stdout",
          "output_type": "stream",
          "text": [
            "+-----+-----+\n",
            "|ngram|count|\n",
            "+-----+-----+\n",
            "| ! 09|  100|\n",
            "+-----+-----+\n",
            "\n"
          ]
        }
      ],
      "source": [
        "ngram.select(ngram.ngram,ngram.year) \\\n",
        "  .groupBy(ngram.ngram) \\\n",
        "  .count() \\\n",
        "  .filter(col('count') == ngram.select(ngram.year).distinct().count()) \\\n",
        "  .show()"
      ]
    },
    {
      "cell_type": "markdown",
      "metadata": {
        "id": "ecbWtPQ_KNDM"
      },
      "source": [
        "## Return the total number of pages & books for each bigram by year in alphabetical order"
      ]
    },
    {
      "cell_type": "markdown",
      "metadata": {
        "id": "zR9pX9wMLZv0"
      },
      "source": [
        "- SQL"
      ]
    },
    {
      "cell_type": "code",
      "execution_count": null,
      "metadata": {
        "colab": {
          "base_uri": "https://localhost:8080/"
        },
        "id": "EMPe9vAoKqiZ",
        "outputId": "05372f28-5d84-4465-aecc-02013c4ed6e1"
      },
      "outputs": [
        {
          "name": "stdout",
          "output_type": "stream",
          "text": [
            "+-----+----------+----------+----+\n",
            "|ngram|sum(pages)|sum(books)|year|\n",
            "+-----+----------+----------+----+\n",
            "| ! 09|         1|         1|1860|\n",
            "| ! 09|         1|         1|1867|\n",
            "| ! 09|         2|         2|1877|\n",
            "| ! 09|         3|         3|1829|\n",
            "| ! 09|         1|         1|1845|\n",
            "| ! 09|         1|         1|1887|\n",
            "| ! 09|         2|         2|1876|\n",
            "| ! 09|         1|         1|1823|\n",
            "| ! 09|         2|         2|1830|\n",
            "| ! 09|         1|         1|1825|\n",
            "| ! 09|         2|         2|1885|\n",
            "| ! 09|         5|         5|1884|\n",
            "| ! 09|         2|         2|1879|\n",
            "| ! 09|         1|         1|1848|\n",
            "| ! 09|         1|         1|1858|\n",
            "| ! 09|         2|         2|1878|\n",
            "| ! 09|         1|         1|1861|\n",
            "| ! 09|         1|         1|1866|\n",
            "| ! 09|         2|         2|1880|\n",
            "| ! 09|         1|         1|1836|\n",
            "+-----+----------+----------+----+\n",
            "only showing top 20 rows\n",
            "\n"
          ]
        }
      ],
      "source": [
        "sqlContext.sql(\"\"\"\n",
        "  SELECT ngram,SUM(pages),SUM(books),year\n",
        "  FROM ngram as n\n",
        "  GROUP BY year,ngram\n",
        "  ORDER BY ngram DESC\n",
        "\"\"\").show()"
      ]
    },
    {
      "cell_type": "markdown",
      "metadata": {
        "id": "1wByEN4HLbZ8"
      },
      "source": [
        "- PySQL"
      ]
    },
    {
      "cell_type": "code",
      "execution_count": null,
      "metadata": {
        "colab": {
          "base_uri": "https://localhost:8080/"
        },
        "id": "lstPkVwCLcfq",
        "outputId": "150513c1-4858-4f70-bdd2-bbc56681b5b4"
      },
      "outputs": [
        {
          "name": "stdout",
          "output_type": "stream",
          "text": [
            "+----+-----+-----------+-----------+\n",
            "|year|ngram|total_books|total_pages|\n",
            "+----+-----+-----------+-----------+\n",
            "|1860| ! 09|          1|          1|\n",
            "|1867| ! 09|          1|          1|\n",
            "|1877| ! 09|          2|          2|\n",
            "|1829| ! 09|          3|          3|\n",
            "|1845| ! 09|          1|          1|\n",
            "|1887| ! 09|          1|          1|\n",
            "|1876| ! 09|          2|          2|\n",
            "|1823| ! 09|          1|          1|\n",
            "|1830| ! 09|          2|          2|\n",
            "|1825| ! 09|          1|          1|\n",
            "|1885| ! 09|          2|          2|\n",
            "|1884| ! 09|          5|          5|\n",
            "|1879| ! 09|          2|          2|\n",
            "|1848| ! 09|          1|          1|\n",
            "|1858| ! 09|          1|          1|\n",
            "|1878| ! 09|          2|          2|\n",
            "|1861| ! 09|          1|          1|\n",
            "|1866| ! 09|          1|          1|\n",
            "|1880| ! 09|          2|          2|\n",
            "|1836| ! 09|          1|          1|\n",
            "+----+-----+-----------+-----------+\n",
            "only showing top 20 rows\n",
            "\n"
          ]
        }
      ],
      "source": [
        "ngram \\\n",
        "  .select('ngram','year','books','pages') \\\n",
        "  .groupBy('year','ngram') \\\n",
        "  .agg(sum('books').alias('total_books'),sum('pages').alias('total_pages')) \\\n",
        "  .sort(desc('ngram')) \\\n",
        "  .show()"
      ]
    },
    {
      "cell_type": "markdown",
      "metadata": {
        "id": "tGgXeKwHLQv2"
      },
      "source": [
        "## Return the number of bigrams by year ordered by year"
      ]
    },
    {
      "cell_type": "markdown",
      "metadata": {
        "id": "Gm8ex0apNBnB"
      },
      "source": [
        "- SQL"
      ]
    },
    {
      "cell_type": "code",
      "execution_count": null,
      "metadata": {
        "colab": {
          "base_uri": "https://localhost:8080/"
        },
        "id": "I0ceIkyOLZAY",
        "outputId": "fd909880-fcff-46e6-d453-7e6b73a3565e"
      },
      "outputs": [
        {
          "name": "stdout",
          "output_type": "stream",
          "text": [
            "+----+-----+\n",
            "|year|count|\n",
            "+----+-----+\n",
            "|2008|    2|\n",
            "|2007|    2|\n",
            "|2006|    2|\n",
            "|2005|    2|\n",
            "|2004|    2|\n",
            "|2003|    2|\n",
            "|2002|    2|\n",
            "|2001|    2|\n",
            "|2000|    2|\n",
            "|1999|    2|\n",
            "|1998|    2|\n",
            "|1997|    2|\n",
            "|1996|    2|\n",
            "|1995|    2|\n",
            "|1993|    2|\n",
            "|1992|    2|\n",
            "|1991|    2|\n",
            "|1990|    2|\n",
            "|1987|    2|\n",
            "|1985|    2|\n",
            "+----+-----+\n",
            "only showing top 20 rows\n",
            "\n"
          ]
        }
      ],
      "source": [
        "sqlContext.sql(\"\"\"\n",
        "  SELECT year,count(DISTINCT ngram) as count\n",
        "  FROM ngram as n\n",
        "  GROUP BY year\n",
        "  ORDER BY year DESC\n",
        "\"\"\").show()"
      ]
    },
    {
      "cell_type": "markdown",
      "metadata": {
        "id": "Vsr6N6pkNZ_r"
      },
      "source": [
        "- PySpark"
      ]
    },
    {
      "cell_type": "code",
      "execution_count": null,
      "metadata": {
        "colab": {
          "base_uri": "https://localhost:8080/"
        },
        "id": "FuIYbDMyNbk4",
        "outputId": "7817e622-fc61-4cd2-dbde-44fce13172fd"
      },
      "outputs": [
        {
          "name": "stdout",
          "output_type": "stream",
          "text": [
            "+----+-----+\n",
            "|year|count|\n",
            "+----+-----+\n",
            "|2008|    2|\n",
            "|2007|    2|\n",
            "|2006|    2|\n",
            "|2005|    2|\n",
            "|2004|    2|\n",
            "|2003|    2|\n",
            "|2002|    2|\n",
            "|2001|    2|\n",
            "|2000|    2|\n",
            "|1999|    2|\n",
            "|1998|    2|\n",
            "|1997|    2|\n",
            "|1996|    2|\n",
            "|1995|    2|\n",
            "|1993|    2|\n",
            "|1992|    2|\n",
            "|1991|    2|\n",
            "|1990|    2|\n",
            "|1987|    2|\n",
            "|1985|    2|\n",
            "+----+-----+\n",
            "only showing top 20 rows\n",
            "\n"
          ]
        }
      ],
      "source": [
        "ngram \\\n",
        "  .select('year','ngram') \\\n",
        "  .groupBy('year') \\\n",
        "  .count() \\\n",
        "  .sort(desc('year')) \\\n",
        "  .show()"
      ]
    }
  ],
  "metadata": {
    "colab": {
      "provenance": []
    },
    "kernelspec": {
      "display_name": "Python 3",
      "name": "python3"
    },
    "language_info": {
      "name": "python"
    }
  },
  "nbformat": 4,
  "nbformat_minor": 0
}
